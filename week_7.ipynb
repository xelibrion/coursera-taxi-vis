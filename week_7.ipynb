{
 "cells": [
  {
   "cell_type": "markdown",
   "metadata": {},
   "source": [
    "Импортируем все что нужно"
   ]
  },
  {
   "cell_type": "code",
   "execution_count": null,
   "metadata": {},
   "outputs": [],
   "source": [
    "import numpy as np\n",
    "import pandas as pd\n",
    "\n",
    "import plotly.graph_objs as go\n",
    "from plotly.offline import init_notebook_mode, iplot\n",
    "\n",
    "import ipywidgets as ipyw\n",
    "import ipyleaflet as ipyl\n",
    "from IPython.display import display\n",
    "\n",
    "from shapely.geometry import Polygon, mapping\n",
    "import json"
   ]
  },
  {
   "cell_type": "markdown",
   "metadata": {},
   "source": [
    "# Загрузим данные"
   ]
  },
  {
   "cell_type": "code",
   "execution_count": null,
   "metadata": {},
   "outputs": [],
   "source": [
    "regions = pd.read_csv('./regions.csv', sep=';')\n",
    "regions.set_index('region', inplace=True)\n",
    "\n",
    "june_predictions = pd.read_csv(\n",
    "    './june_predictions.csv',\n",
    "    index_col=['region', 'index'],\n",
    "    parse_dates=['index'], )\n",
    "june_y = pd.read_csv(\n",
    "    './y_true_values.csv',\n",
    "    index_col=['region', 'index'],\n",
    "    parse_dates=['index'], )\n",
    "june_errors = pd.read_csv(\n",
    "    './june_errors.csv',\n",
    "    index_col=['region', 'index'],\n",
    "    parse_dates=['index'], )\n",
    "\n",
    "june_predictions.sort_index(inplace=True)\n",
    "june_y.sort_index(inplace=True)\n",
    "june_errors.sort_index(inplace=True)"
   ]
  },
  {
   "cell_type": "markdown",
   "metadata": {},
   "source": [
    "# Посмотрим на ошибки в каждом из регионов\n",
    "\n",
    "Упорядочим регионы в порядке убывания средней ошибки"
   ]
  },
  {
   "cell_type": "code",
   "execution_count": null,
   "metadata": {},
   "outputs": [],
   "source": [
    "regions_ordered = june_errors.mean(axis=1).groupby(level=0).mean().sort_values(ascending=False)"
   ]
  },
  {
   "cell_type": "code",
   "execution_count": null,
   "metadata": {},
   "outputs": [],
   "source": [
    "region_selector = ipyw.SelectionSlider(\n",
    "    options=list(regions_ordered.index),\n",
    "    description=u'Выберите регион:',\n",
    "    disabled=False,\n",
    "    continuous_update=False,\n",
    "    orientation='horizontal',\n",
    "    readout=True)\n",
    "display(region_selector)\n",
    "\n",
    "horizon_selector = ipyw.ToggleButtons(\n",
    "    options=[(1, 'err_y1'), (2, 'err_y2'), (3, 'err_y3'), (4, 'err_y4'),\n",
    "\t     (5, 'err_y5'), (6, 'err_y6')],\n",
    "    value='err_y1',\n",
    "    description=u'Прогноз (часов):',\n",
    "    disabled=False)\n",
    "display(horizon_selector)\n",
    "\n",
    "tbl_top_errors = ipyw.HTML()\n",
    "tbl_top_errors.add_class('rendered_html')\n",
    "display(tbl_top_errors)\n",
    "\n",
    "\n",
    "def wire_up_dependencies(region, field):\n",
    "    selected = june_errors.loc[region]\n",
    "    errors = selected.sort_values(field, ascending=False).head(10)\n",
    "    tbl_top_errors.value = errors[[field]].to_html()\n",
    "\n",
    "\n",
    "def on_region_change(change):\n",
    "    region = change['new']\n",
    "    wire_up_dependencies(region, horizon_selector.value)\n",
    "\n",
    "\n",
    "def on_horizon_change(change):\n",
    "    field = change['new']\n",
    "    wire_up_dependencies(region_selector.value, field)\n",
    "\n",
    "\n",
    "region_selector.observe(on_region_change, names='value')\n",
    "horizon_selector.observe(on_horizon_change, names='value')\n",
    "wire_up_dependencies(region_selector.value, horizon_selector.value)"
   ]
  },
  {
   "cell_type": "markdown",
   "metadata": {},
   "source": [
    "# Построим график прогнозов\n",
    "\n",
    "Заведем plotly"
   ]
  },
  {
   "cell_type": "code",
   "execution_count": null,
   "metadata": {},
   "outputs": [],
   "source": [
    "init_notebook_mode()"
   ]
  },
  {
   "cell_type": "code",
   "execution_count": null,
   "metadata": {},
   "outputs": [],
   "source": [
    "from pandas.tseries.offsets import Hour\n",
    "index = pd.date_range('2016-06-01', '2016-06-30 17:00', freq='H')\n",
    "\n",
    "\n",
    "def get_period(date):\n",
    "    def as_slice(period_start, period_end):\n",
    "\treturn slice(str(period_start), str(period_end))\n",
    "\n",
    "    period_start = pd.to_datetime(date) - Hour(84)\n",
    "    if period_start < index.min():\n",
    "\tperiod_start = index.min()\n",
    "\tperiod_end = period_start + Hour(168)\n",
    "\treturn as_slice(period_start, period_end)\n",
    "\n",
    "    period_end = pd.to_datetime(date) + Hour(83)\n",
    "    if period_end > index.max():\n",
    "\tperiod_end = index.max()\n",
    "\tperiod_start = period_end - Hour(168)\n",
    "\n",
    "    return as_slice(period_start, period_end)\n",
    "\n",
    "\n",
    "def compare_forecast_to_actual(region, date, field):\n",
    "    plot_output.clear_output()\n",
    "\n",
    "    with plot_output:\n",
    "\tdate_idx = get_period(date)\n",
    "\tforecast = june_predictions.loc[region].loc[date_idx]\n",
    "\ttrue_y = june_y.loc[region].loc[date_idx]\n",
    "\n",
    "\ttrace1 = go.Scatter(\n",
    "\t    x=true_y.index,\n",
    "\t    y=true_y[field],\n",
    "\t    mode='lines+markers',\n",
    "\t    name='{} - Actual'.format(field), )\n",
    "\n",
    "\ttrace2 = go.Scatter(\n",
    "\t    x=forecast.index,\n",
    "\t    y=forecast[field],\n",
    "\t    mode='lines+markers',\n",
    "\t    name='{} - Forecast'.format(field), )\n",
    "\n",
    "\tdata = [trace1, trace2]\n",
    "\tlayout = go.Layout(title='A Simple Plot', width=800, height=640)\n",
    "\tfig = go.Figure(data=data, layout=layout)\n",
    "\n",
    "\tiplot(data, show_link=False)"
   ]
  },
  {
   "cell_type": "code",
   "execution_count": null,
   "metadata": {},
   "outputs": [],
   "source": [
    "plot_region_selector = ipyw.SelectionSlider(\n",
    "    options=list(regions_ordered.index),\n",
    "    description=u'Выберите регион:',\n",
    "    disabled=False,\n",
    "    continuous_update=False,\n",
    "    orientation='horizontal',\n",
    "    readout=True)\n",
    "display(plot_region_selector)\n",
    "\n",
    "plot_date_selector = ipyw.SelectionSlider(\n",
    "    options=list(pd.date_range('2016-06-01', '2016-06-30').astype(str)),\n",
    "    description=u'Выберите дату:',\n",
    "    disabled=False,\n",
    "    continuous_update=False,\n",
    "    orientation='horizontal',\n",
    "    readout=True)\n",
    "display(plot_date_selector)\n",
    "\n",
    "plot_horizon_selector = ipyw.ToggleButtons(\n",
    "    options=[(1, 'y1'), (2, 'y2'), (3, 'y3'), (4, 'y4'), (5, 'y5'), (6, 'y6')],\n",
    "    value='y1',\n",
    "    description=u'Прогноз (часов):',\n",
    "    disabled=False)\n",
    "display(plot_horizon_selector)\n",
    "\n",
    "plot_output = ipyw.Output()\n",
    "display(plot_output)\n",
    "\n",
    "\n",
    "def plot_on_region_change(change):\n",
    "    region = change['new']\n",
    "    compare_forecast_to_actual(region, plot_date_selector.value,\n",
    "\t\t\t       plot_horizon_selector.value)\n",
    "\n",
    "\n",
    "def plot_on_date_change(change):\n",
    "    field = change['new']\n",
    "    compare_forecast_to_actual(plot_region_selector.value, field,\n",
    "\t\t\t       plot_horizon_selector.value)\n",
    "\n",
    "\n",
    "def plot_on_horizon_change(change):\n",
    "    field = change['new']\n",
    "    compare_forecast_to_actual(plot_region_selector.value,\n",
    "\t\t\t       plot_date_selector.value, field)\n",
    "\n",
    "\n",
    "plot_region_selector.observe(plot_on_region_change, names='value')\n",
    "plot_date_selector.observe(plot_on_date_change, names='value')\n",
    "plot_horizon_selector.observe(plot_on_horizon_change, names='value')\n",
    "\n",
    "compare_forecast_to_actual(plot_region_selector.value,\n",
    "\t\t\t   plot_date_selector.value,\n",
    "\t\t\t   plot_horizon_selector.value)"
   ]
  },
  {
   "cell_type": "markdown",
   "metadata": {},
   "source": [
    "# Интерактивная карта\n",
    "\n",
    "Средняя ошибка по региону (по всем y)"
   ]
  },
  {
   "cell_type": "code",
   "execution_count": null,
   "metadata": {},
   "outputs": [],
   "source": [
    "mean_errors = june_errors.mean(axis=1).reset_index().set_index(\n",
    "    ['index', 'region'])\n",
    "mean_errors.sort_index(inplace=True)\n",
    "mean_errors.columns = ['mean_error']"
   ]
  },
  {
   "cell_type": "markdown",
   "metadata": {},
   "source": [
    "Будем использовать метод для генерации GeoJSON"
   ]
  },
  {
   "cell_type": "code",
   "execution_count": null,
   "metadata": {},
   "outputs": [],
   "source": [
    "def get_geo_data(timestamp):\n",
    "    regions_to_draw = mean_errors.loc[timestamp].join(regions)\n",
    "    regions_to_draw.index = regions_to_draw.index.droplevel(0)\n",
    "    regions_to_draw.loc[:, 'error_group'] = pd.cut(\n",
    "\tregions_to_draw['mean_error'], 5, labels=False)\n",
    "    geo_features = regions_to_draw.apply(region_to_geofeature, axis=1).values\n",
    "    return {'type': 'FeatureCollection', 'features': [x for x in geo_features]}"
   ]
  },
  {
   "cell_type": "markdown",
   "metadata": {},
   "source": [
    "Функция для конвертации региона в его GeoJSON представление"
   ]
  },
  {
   "cell_type": "code",
   "execution_count": null,
   "metadata": {},
   "outputs": [],
   "source": [
    "def region_to_geofeature(row):\n",
    "    def get_color(error_group):\n",
    "\tcolormap = {\n",
    "\t    0: '#ffffb2',\n",
    "\t    1: '#fecc5c',\n",
    "\t    2: '#fd8d3c',\n",
    "\t    3: '#f03b20',\n",
    "\t    4: '#bd0026',\n",
    "\t}\n",
    "\treturn colormap[error_group]\n",
    "\n",
    "    lats = row[['north', 'south', 'south', 'north']].values\n",
    "    lons = row[['west', 'west', 'east', 'east']].values\n",
    "\n",
    "    coords = zip(lons, lats)\n",
    "    poly = Polygon(coords)\n",
    "\n",
    "    return {\n",
    "\t'type': 'Feature',\n",
    "\t'id': row.name,\n",
    "\t'geometry': mapping(poly),\n",
    "\t'properties': {\n",
    "\t    'style': {\n",
    "\t\t'color': 'grey',\n",
    "\t\t'weight': 1,\n",
    "\t\t'fillColor': get_color(row['error_group']),\n",
    "\t\t'fillOpacity': 0.6\n",
    "\t    }\n",
    "\t}\n",
    "    }"
   ]
  },
  {
   "cell_type": "markdown",
   "metadata": {},
   "source": [
    "Статистика для региона"
   ]
  },
  {
   "cell_type": "code",
   "execution_count": null,
   "metadata": {},
   "outputs": [],
   "source": [
    "def region_stats(region, timestamp):\n",
    "    forecast = june_predictions.loc[region].loc[timestamp]\n",
    "    y = june_y.loc[region].loc[timestamp]\n",
    "    errors = june_errors.loc[region].loc[timestamp]\n",
    "    errors.index = y.index\n",
    "    df = pd.DataFrame(\n",
    "\t{\n",
    "\t    'Forecast': forecast,\n",
    "\t    'True value': y,\n",
    "\t    'Error': errors\n",
    "\t},\n",
    "\tindex=june_y.columns)\n",
    "    df = df[['Forecast', 'True value', 'Error']]\n",
    "    return df"
   ]
  },
  {
   "cell_type": "markdown",
   "metadata": {},
   "source": [
    "Весь интерактив тут"
   ]
  },
  {
   "cell_type": "code",
   "execution_count": null,
   "metadata": {},
   "outputs": [],
   "source": [
    "esb_lat = 40.7484\n",
    "esb_lon = -73.9857\n",
    "\n",
    "hours = pd.date_range('2016-05-31 23:00', '2016-06-30 17:00', freq='H')\n",
    "hours_list = list(hours.astype(str))\n",
    "map_date_selector = ipyw.SelectionSlider(\n",
    "    options=hours_list,\n",
    "    description=u'Выберите дату:',\n",
    "    continuous_update=False,\n",
    "    orientation='horizontal',\n",
    "    readout=True,\n",
    "    layout=ipyw.Layout(width='100%'))\n",
    "\n",
    "\n",
    "map_region_label = ipyw.Label(description=u'Регион:')\n",
    "\n",
    "tbl_region_info = ipyw.HTML()\n",
    "tbl_region_info.add_class('rendered_html')\n",
    "\n",
    "map = ipyl.Map(\n",
    "    center=[esb_lat, esb_lon],\n",
    "    zoom=11,\n",
    "    min_zoom=10,\n",
    "    layout=ipyw.Layout(\n",
    "\theight='500px', align_self='stretch'), )\n",
    "\n",
    "\n",
    "def hover_handler(event=None, id=None, properties=None):\n",
    "    map_region_label.value = str(id)\n",
    "    tbl_region_info.value = region_stats(id, map_date_selector.value).to_html()\n",
    "\n",
    "\n",
    "def draw_regions(timestamp):\n",
    "    json_layer = [x for x in map.layers if isinstance(x, ipyl.GeoJSON)]\n",
    "    if json_layer:\n",
    "\tmap.remove_layer(json_layer[0])\n",
    "\n",
    "    geo_data = get_geo_data(timestamp)\n",
    "    layer = ipyl.GeoJSON(data=geo_data, hover_style={'fillColor': 'blue'})\n",
    "    layer.on_hover(hover_handler)\n",
    "    map.add_layer(layer)\n",
    "\n",
    "\n",
    "def map_on_date_change(change):\n",
    "    date = change['new']\n",
    "    draw_regions(date)\n",
    "\n",
    "\n",
    "map_date_selector.observe(map_on_date_change, names='value')"
   ]
  },
  {
   "cell_type": "markdown",
   "metadata": {},
   "source": [
    "Покажем на карте регионы с высокой средней ошибкой (темным цветом). Статистика по выделенному региону приведена ниже."
   ]
  },
  {
   "cell_type": "code",
   "execution_count": null,
   "metadata": {},
   "outputs": [],
   "source": [
    "display(map_date_selector)\n",
    "display(map)\n",
    "\n",
    "draw_regions(map_date_selector.value)"
   ]
  },
  {
   "cell_type": "code",
   "execution_count": null,
   "metadata": {},
   "outputs": [],
   "source": [
    "display(map_region_label)\n",
    "display(tbl_region_info)"
   ]
  }
 ],
 "metadata": {
  "language_info": {
   "name": "python",
   "pygments_lexer": "ipython3"
  }
 },
 "nbformat": 4,
 "nbformat_minor": 1
}
